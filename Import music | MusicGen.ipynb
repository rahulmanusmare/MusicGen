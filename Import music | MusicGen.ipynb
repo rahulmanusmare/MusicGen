{
 "cells": [
  {
   "cell_type": "markdown",
   "metadata": {},
   "source": [
    "# Impoting music"
   ]
  },
  {
   "cell_type": "markdown",
   "metadata": {},
   "source": [
    "#### Importing liabraries"
   ]
  },
  {
   "cell_type": "code",
   "execution_count": 1,
   "metadata": {},
   "outputs": [],
   "source": [
    "import glob\n",
    "import pickle\n",
    "from music21 import *"
   ]
  },
  {
   "cell_type": "code",
   "execution_count": 2,
   "metadata": {},
   "outputs": [],
   "source": [
    "notes = []"
   ]
  },
  {
   "cell_type": "code",
   "execution_count": 9,
   "metadata": {
    "scrolled": true
   },
   "outputs": [
    {
     "name": "stdout",
     "output_type": "stream",
     "text": [
      "Parsing File :  media/Ff7-Jenova_Absolute.mid\n",
      "Parsing File :  media/FF8_Shuffle_or_boogie_pc.mid\n",
      "Parsing File :  media/ahead_on_our_way_piano.mid\n",
      "Parsing File :  media/balamb.mid\n",
      "Parsing File :  media/DOS.mid\n",
      "Parsing File :  media/FF3_Battle_(Piano).mid\n",
      "Parsing File :  media/Suteki_Da_Ne_(Piano_Version).mid\n",
      "Parsing File :  media/caitsith.mid\n",
      "Parsing File :  media/sera_.mid\n",
      "Parsing File :  media/Oppressed.mid\n",
      "Parsing File :  media/ff4-airship.mid\n",
      "Parsing File :  media/ff7themep.mid\n",
      "Parsing File :  media/FFVII_BATTLE.mid\n",
      "Parsing File :  media/electric_de_chocobo.mid\n",
      "Parsing File :  media/Ff7-One_Winged.mid\n",
      "Parsing File :  media/Finalfantasy5gilgameshp.mid\n",
      "Parsing File :  media/Cids.mid\n",
      "Parsing File :  media/lurk_in_dark.mid\n",
      "Parsing File :  media/FFX_-_Ending_Theme_(Piano_Version)_-_by_Angel_FF.mid\n",
      "Parsing File :  media/ff4pclov.mid\n",
      "Parsing File :  media/AT.mid\n",
      "Parsing File :  media/Final_Fantasy_7_-_Judgement_Day_Piano.mid\n",
      "Parsing File :  media/8.mid\n",
      "Parsing File :  media/sobf.mid\n",
      "Parsing File :  media/In_Zanarkand.mid\n",
      "Parsing File :  media/waltz_de_choco.mid\n",
      "Parsing File :  media/z_aeristhemepiano.mid\n",
      "Parsing File :  media/Final_Fantasy_Matouyas_Cave_Piano.mid\n",
      "Parsing File :  media/redwings.mid\n",
      "Parsing File :  media/roseofmay-piano.mid\n",
      "Parsing File :  media/ff4_piano_collections-main_theme.mid\n",
      "Parsing File :  media/dontbeafraid.mid\n",
      "Parsing File :  media/dayafter.mid\n",
      "Parsing File :  media/FF6epitaph_piano.mid\n",
      "Parsing File :  media/FFIX_Piano.mid\n",
      "Parsing File :  media/FFIII_Edgar_And_Sabin_Piano.mid\n",
      "Parsing File :  media/ultros.mid\n",
      "Parsing File :  media/0fithos.mid\n",
      "Parsing File :  media/BlueStone_LastDungeon.mid\n",
      "Parsing File :  media/ff8-lfp.mid\n",
      "Parsing File :  media/rufus.mid\n",
      "Parsing File :  media/ff4-fight1.mid\n",
      "Parsing File :  media/Life_Stream.mid\n",
      "Parsing File :  media/Zelda_Overworld.mid\n",
      "Parsing File :  media/JENOVA.mid\n",
      "Parsing File :  media/thenightmarebegins.mid\n",
      "Parsing File :  media/FF4.mid\n",
      "Parsing File :  media/figaro.mid\n",
      "Parsing File :  media/Fiend_Battle_(Piano).mid\n",
      "Parsing File :  media/cosmo.mid\n",
      "Parsing File :  media/Kingdom_Hearts_Dearly_Beloved.mid\n",
      "Parsing File :  media/pkelite4.mid\n",
      "Parsing File :  media/tifap.mid\n",
      "Parsing File :  media/relmstheme-piano.mid\n",
      "Parsing File :  media/ff11_awakening_piano.mid\n",
      "Parsing File :  media/ff7-mainmidi.mid\n",
      "Parsing File :  media/ff6shap.mid\n",
      "Parsing File :  media/gerudo.mid\n",
      "Parsing File :  media/OTD5YA.mid\n",
      "Parsing File :  media/Rydia_pc.mid\n",
      "Parsing File :  media/ultimafro.mid\n",
      "Parsing File :  media/Ff4-BattleLust.mid\n",
      "Parsing File :  media/great_war.mid\n",
      "Parsing File :  media/tpirtsd-piano.mid\n",
      "Parsing File :  media/goldsaucer.mid\n",
      "Parsing File :  media/ViviinAlexandria.mid\n",
      "Parsing File :  media/EyesOnMePiano.mid\n",
      "Parsing File :  media/fortresscondor.mid\n",
      "Parsing File :  media/Still_Alive-1.mid\n",
      "Parsing File :  media/Fyw_piano.mid\n",
      "Parsing File :  media/VincentPiano.mid\n",
      "Parsing File :  media/thoughts.mid\n",
      "Parsing File :  media/Ff7-Cinco.mid\n",
      "Parsing File :  media/sandy.mid\n",
      "Parsing File :  media/costadsol.mid\n",
      "Parsing File :  media/path_of_repentance.mid\n",
      "Parsing File :  media/ff4-town.mid\n",
      "Parsing File :  media/mining.mid\n",
      "Parsing File :  media/decisive.mid\n",
      "Parsing File :  media/Kingdom_Hearts_Traverse_Town.mid\n",
      "Parsing File :  media/braska.mid\n",
      "Parsing File :  media/HighwindTakestotheSkies.mid\n",
      "Parsing File :  media/Gold_Silver_Rival_Battle.mid\n",
      "Parsing File :  media/Fierce_Battle_(Piano).mid\n",
      "Parsing File :  media/Rachel_Piano_tempofix.mid\n",
      "Parsing File :  media/FF3_Third_Phase_Final_(Piano).mid\n",
      "Parsing File :  media/Eternal_Harvest.mid\n",
      "Parsing File :  media/ff1battp.mid\n",
      "Parsing File :  media/Finalfantasy6fanfarecomplete.mid\n",
      "Parsing File :  media/FFIXQuMarshP.mid\n",
      "Parsing File :  media/bcm.mid\n",
      "Parsing File :  media/traitor.mid\n"
     ]
    }
   ],
   "source": [
    "for musicFile in glob.glob ('media/*mid') :\n",
    "    \n",
    "    print ('Parsing File : ', musicFile)\n",
    "    file = converter.parse (musicFile)\n",
    "    \n",
    "    notesToParse = None\n",
    "    \n",
    "    try :\n",
    "        inst = instrument.partitionByInstrument (file)\n",
    "        notesToParse = inst.parts[0].recurse ()\n",
    "    except :\n",
    "        notesToParse = file.flat.notes\n",
    "    \n",
    "    for ele in notesToParse :\n",
    "        if isinstance (ele, note.Note) :\n",
    "            notes.append (str (ele.pitch))\n",
    "        elif isinstance (ele, chord.Chord) :\n",
    "            notes.append ('.'.join(str(n) for n in ele.normalOrder))"
   ]
  },
  {
   "cell_type": "markdown",
   "metadata": {},
   "source": [
    "#### Saving notes"
   ]
  },
  {
   "cell_type": "code",
   "execution_count": 10,
   "metadata": {},
   "outputs": [],
   "source": [
    "with open('data/notes.pickle', 'wb') as f:\n",
    "    pickle.dump(notes, f)"
   ]
  },
  {
   "cell_type": "markdown",
   "metadata": {},
   "source": [
    "#### Notes Parsed"
   ]
  }
 ],
 "metadata": {
  "kernelspec": {
   "display_name": "Python 3",
   "language": "python",
   "name": "python3"
  },
  "language_info": {
   "codemirror_mode": {
    "name": "ipython",
    "version": 3
   },
   "file_extension": ".py",
   "mimetype": "text/x-python",
   "name": "python",
   "nbconvert_exporter": "python",
   "pygments_lexer": "ipython3",
   "version": "3.7.1"
  }
 },
 "nbformat": 4,
 "nbformat_minor": 2
}
