{
 "cells": [
  {
   "cell_type": "markdown",
   "metadata": {},
   "source": [
    "# Impoting music"
   ]
  },
  {
   "cell_type": "markdown",
   "metadata": {},
   "source": [
    "#### Importing liabraries"
   ]
  },
  {
   "cell_type": "code",
   "execution_count": 62,
   "metadata": {},
   "outputs": [],
   "source": [
    "import glob\n",
    "import pickle\n",
    "from music21 import *"
   ]
  },
  {
   "cell_type": "code",
   "execution_count": 63,
   "metadata": {},
   "outputs": [],
   "source": [
    "notes = []"
   ]
  },
  {
   "cell_type": "code",
   "execution_count": 68,
   "metadata": {
    "scrolled": true
   },
   "outputs": [
    {
     "name": "stdout",
     "output_type": "stream",
     "text": [
      "Parsing File :  media/incomplete/7_years_old_by_Lucas_Graham__Unfinished.mid\n"
     ]
    }
   ],
   "source": [
    "for musicFile in glob.glob ('media/incomplete/*.mid') :\n",
    "    \n",
    "    print ('Parsing File : ', musicFile)\n",
    "    file = converter.parse (musicFile)\n",
    "    \n",
    "    notesToParse = None\n",
    "    \n",
    "    try :\n",
    "        inst = instrument.partitionByInstrument (file)\n",
    "        notesToParse = inst.parts[0].recurse ()\n",
    "    except :\n",
    "        notesToParse = file.flat.notes\n",
    "    \n",
    "    for ele in notesToParse :\n",
    "        if isinstance (ele, note.Note) :\n",
    "            notes.append (str (ele.pitch))\n",
    "        elif isinstance (ele, chord.Chord) :\n",
    "            notes.append ('.'.join(str(n) for n in ele.normalOrder))"
   ]
  },
  {
   "cell_type": "code",
   "execution_count": 70,
   "metadata": {},
   "outputs": [
    {
     "data": {
      "text/plain": [
       "['0',\n",
       " '0.2.5.8',\n",
       " '0.4',\n",
       " '0.4.7',\n",
       " '0.4.8',\n",
       " '0.5',\n",
       " '1',\n",
       " '1.4',\n",
       " '1.5',\n",
       " '1.6',\n",
       " '10',\n",
       " '10.2',\n",
       " '10.2.5',\n",
       " '10.3',\n",
       " '11',\n",
       " '11.2',\n",
       " '11.2.5',\n",
       " '11.2.6',\n",
       " '11.3',\n",
       " '11.4',\n",
       " '2',\n",
       " '2.4.7',\n",
       " '2.5',\n",
       " '2.5.7.10',\n",
       " '2.5.9',\n",
       " '2.6',\n",
       " '2.6.9',\n",
       " '2.7',\n",
       " '2.8',\n",
       " '3',\n",
       " '3.8',\n",
       " '3.9',\n",
       " '4',\n",
       " '4.5.9.0',\n",
       " '4.7',\n",
       " '4.7.11',\n",
       " '4.8',\n",
       " '4.8.11',\n",
       " '5',\n",
       " '5.7.0',\n",
       " '5.7.11',\n",
       " '5.8',\n",
       " '5.8.11',\n",
       " '5.9',\n",
       " '5.9.0',\n",
       " '6',\n",
       " '6.11',\n",
       " '6.8',\n",
       " '6.9',\n",
       " '7',\n",
       " '7.0',\n",
       " '7.10',\n",
       " '7.10.2',\n",
       " '7.11',\n",
       " '7.11.2',\n",
       " '7.9',\n",
       " '7.9.2',\n",
       " '8.0',\n",
       " '8.1',\n",
       " '8.11',\n",
       " '9',\n",
       " '9.0',\n",
       " '9.0.2',\n",
       " '9.0.4',\n",
       " '9.1',\n",
       " '9.1.4',\n",
       " '9.2',\n",
       " 'A3',\n",
       " 'A4',\n",
       " 'A5',\n",
       " 'A6',\n",
       " 'B-3',\n",
       " 'B-4',\n",
       " 'B-5',\n",
       " 'B-6',\n",
       " 'B3',\n",
       " 'B4',\n",
       " 'B5',\n",
       " 'B6',\n",
       " 'C#4',\n",
       " 'C#5',\n",
       " 'C#6',\n",
       " 'C1',\n",
       " 'C2',\n",
       " 'C3',\n",
       " 'C4',\n",
       " 'C5',\n",
       " 'C6',\n",
       " 'C7',\n",
       " 'D3',\n",
       " 'D4',\n",
       " 'D5',\n",
       " 'D6',\n",
       " 'D7',\n",
       " 'E-4',\n",
       " 'E-5',\n",
       " 'E-6',\n",
       " 'E3',\n",
       " 'E4',\n",
       " 'E5',\n",
       " 'E6',\n",
       " 'F#3',\n",
       " 'F#4',\n",
       " 'F#5',\n",
       " 'F#6',\n",
       " 'F3',\n",
       " 'F4',\n",
       " 'F5',\n",
       " 'F6',\n",
       " 'G#3',\n",
       " 'G#4',\n",
       " 'G#5',\n",
       " 'G#6',\n",
       " 'G3',\n",
       " 'G4',\n",
       " 'G5',\n",
       " 'G6',\n",
       " 'G7']"
      ]
     },
     "execution_count": 70,
     "metadata": {},
     "output_type": "execute_result"
    }
   ],
   "source": [
    "sorted (set (notes))"
   ]
  },
  {
   "cell_type": "markdown",
   "metadata": {},
   "source": [
    "#### Saving notes"
   ]
  },
  {
   "cell_type": "code",
   "execution_count": 69,
   "metadata": {},
   "outputs": [],
   "source": [
    "with open('data/notes_incomplete.pickle', 'wb') as f:\n",
    "    pickle.dump(notes, f)"
   ]
  },
  {
   "cell_type": "markdown",
   "metadata": {},
   "source": [
    "#### Notes Parsed"
   ]
  }
 ],
 "metadata": {
  "kernelspec": {
   "display_name": "Python 3",
   "language": "python",
   "name": "python3"
  },
  "language_info": {
   "codemirror_mode": {
    "name": "ipython",
    "version": 3
   },
   "file_extension": ".py",
   "mimetype": "text/x-python",
   "name": "python",
   "nbconvert_exporter": "python",
   "pygments_lexer": "ipython3",
   "version": "3.7.1"
  }
 },
 "nbformat": 4,
 "nbformat_minor": 2
}
