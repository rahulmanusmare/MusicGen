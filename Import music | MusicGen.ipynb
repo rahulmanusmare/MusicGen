{
 "cells": [
  {
   "cell_type": "markdown",
   "metadata": {},
   "source": [
    "# Impoting music"
   ]
  },
  {
   "cell_type": "markdown",
   "metadata": {},
   "source": [
    "#### Importing liabraries"
   ]
  },
  {
   "cell_type": "code",
   "execution_count": 62,
   "metadata": {},
   "outputs": [],
   "source": [
    "import glob\n",
    "import pickle\n",
    "from music21 import *"
   ]
  },
  {
   "cell_type": "code",
   "execution_count": 63,
   "metadata": {},
   "outputs": [],
   "source": [
    "notes = []"
   ]
  },
  {
   "cell_type": "code",
   "execution_count": 68,
   "metadata": {
    "scrolled": true
   },
   "outputs": [
    {
     "name": "stdout",
     "output_type": "stream",
     "text": [
      "Parsing File :  media/incomplete/7_years_old_by_Lucas_Graham__Unfinished.mid\n"
     ]
    }
   ],
   "source": [
    "for musicFile in glob.glob ('media/incomplete/*.mid') :\n",
    "    \n",
    "    print ('Parsing File : ', musicFile)\n",
    "    file = converter.parse (musicFile)\n",
    "    \n",
    "    notesToParse = None\n",
    "    \n",
    "    try :\n",
    "        inst = instrument.partitionByInstrument (file)\n",
    "        notesToParse = inst.parts[0].recurse ()\n",
    "    except :\n",
    "        notesToParse = file.flat.notes\n",
    "    \n",
    "    for ele in notesToParse :\n",
    "        if isinstance (ele, note.Note) :\n",
    "            notes.append (str (ele.pitch))\n",
    "        elif isinstance (ele, chord.Chord) :\n",
    "            notes.append ('.'.join(str(n) for n in ele.normalOrder))"
   ]
  },
  {
   "cell_type": "markdown",
   "metadata": {},
   "source": [
    "#### Saving notes"
   ]
  },
  {
   "cell_type": "code",
   "execution_count": 69,
   "metadata": {},
   "outputs": [],
   "source": [
    "with open('data/notes_incomplete.pickle', 'wb') as f:\n",
    "    pickle.dump(notes, f)"
   ]
  },
  {
   "cell_type": "markdown",
   "metadata": {},
   "source": [
    "#### Notes Parsed"
   ]
  }
 ],
 "metadata": {
  "kernelspec": {
   "display_name": "Python 3",
   "language": "python",
   "name": "python3"
  },
  "language_info": {
   "codemirror_mode": {
    "name": "ipython",
    "version": 3
   },
   "file_extension": ".py",
   "mimetype": "text/x-python",
   "name": "python",
   "nbconvert_exporter": "python",
   "pygments_lexer": "ipython3",
   "version": "3.7.1"
  }
 },
 "nbformat": 4,
 "nbformat_minor": 2
}
