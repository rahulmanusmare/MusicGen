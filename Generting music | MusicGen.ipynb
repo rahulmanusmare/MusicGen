{
 "cells": [
  {
   "cell_type": "markdown",
   "metadata": {},
   "source": [
    "# Generating music"
   ]
  },
  {
   "cell_type": "markdown",
   "metadata": {},
   "source": [
    "#### Importing liabraries"
   ]
  },
  {
   "cell_type": "code",
   "execution_count": 24,
   "metadata": {},
   "outputs": [],
   "source": [
    "from music21 import *\n",
    "import pickle\n",
    "import glob\n",
    "import numpy as np\n",
    "from keras.utils import to_categorical\n",
    "from keras.models import Sequential\n",
    "from keras.layers import LSTM\n",
    "from keras.layers import Dense\n",
    "from keras.layers import Dropout\n",
    "from keras.layers import Activation\n",
    "from keras.callbacks import ModelCheckpoint"
   ]
  },
  {
   "cell_type": "markdown",
   "metadata": {},
   "source": [
    "#### loading notes"
   ]
  },
  {
   "cell_type": "code",
   "execution_count": 25,
   "metadata": {},
   "outputs": [],
   "source": [
    "with open('data/notes_pop.pickle', 'rb') as f:\n",
    "    notes = pickle.load(f)\n",
    "\n",
    "pitchNames = set (notes)\n",
    "nNotes = len (pitchNames)\n",
    "pitchNames = sorted (pitchNames)"
   ]
  },
  {
   "cell_type": "markdown",
   "metadata": {},
   "source": [
    "#### Encoding notes"
   ]
  },
  {
   "cell_type": "code",
   "execution_count": 26,
   "metadata": {},
   "outputs": [],
   "source": [
    "noteCoding = {}\n",
    "\n",
    "code = 0\n",
    "for i in pitchNames :\n",
    "    noteCoding [i] = code\n",
    "    code += 1"
   ]
  },
  {
   "cell_type": "markdown",
   "metadata": {},
   "source": [
    "#### One hot encoding"
   ]
  },
  {
   "cell_type": "code",
   "execution_count": 27,
   "metadata": {},
   "outputs": [],
   "source": [
    "sequence = 100\n",
    "nInput = []\n",
    "nOutput = []\n",
    "\n",
    "for i in range (0, len (notes) - sequence, 1) : \n",
    "    \n",
    "    sIn = notes [i : i + sequence]\n",
    "    sOut = notes [i + sequence]\n",
    "    nInput.append ([noteCoding [c]for c in sIn])\n",
    "    nOutput.append (noteCoding [sOut])"
   ]
  },
  {
   "cell_type": "code",
   "execution_count": 28,
   "metadata": {},
   "outputs": [],
   "source": [
    "nInput = np.reshape (nInput, (len (nInput), sequence, 1))"
   ]
  },
  {
   "cell_type": "code",
   "execution_count": 29,
   "metadata": {},
   "outputs": [],
   "source": [
    "nOutput = to_categorical (nOutput)"
   ]
  },
  {
   "cell_type": "markdown",
   "metadata": {},
   "source": [
    "#### Model"
   ]
  },
  {
   "cell_type": "code",
   "execution_count": 30,
   "metadata": {},
   "outputs": [],
   "source": [
    "model = Sequential()\n",
    "model.add(LSTM(\n",
    "    512,\n",
    "    input_shape=(nInput.shape[1], nInput.shape[2]),\n",
    "    return_sequences=True\n",
    "))\n",
    "model.add(Dropout(0.25))\n",
    "model.add(LSTM(512, return_sequences=True))\n",
    "model.add(Dropout(0.25))\n",
    "model.add(LSTM(512))\n",
    "model.add(Dense(256))\n",
    "model.add(Dropout(0.25))\n",
    "model.add(Dense(nNotes))\n",
    "model.add(Activation('softmax'))\n",
    "model.compile(loss='categorical_crossentropy', optimizer='rmsprop')"
   ]
  },
  {
   "cell_type": "code",
   "execution_count": 31,
   "metadata": {},
   "outputs": [],
   "source": [
    "model.load_weights('weights/pop/weights-improvement-98-0.0429-bigger.hdf5')"
   ]
  },
  {
   "cell_type": "markdown",
   "metadata": {},
   "source": [
    "#### Generating random inputs"
   ]
  },
  {
   "cell_type": "code",
   "execution_count": 32,
   "metadata": {
    "scrolled": true
   },
   "outputs": [],
   "source": [
    "s = np.random.randint (0, len (notes))\n",
    "inNotes = list (np.ravel (nInput[s]))\n",
    "\n",
    "outputElements = []\n",
    "\n",
    "noteCoding = dict((number, note) for number, note in enumerate (pitchNames))"
   ]
  },
  {
   "cell_type": "markdown",
   "metadata": {},
   "source": [
    "#### Generating notes"
   ]
  },
  {
   "cell_type": "code",
   "execution_count": 35,
   "metadata": {
    "scrolled": true
   },
   "outputs": [
    {
     "name": "stdout",
     "output_type": "stream",
     "text": [
      "1/1 [==============================] - 0s 198ms/step\n",
      "1/1 [==============================] - 0s 192ms/step\n",
      "1/1 [==============================] - 0s 238ms/step\n",
      "1/1 [==============================] - 0s 233ms/step\n",
      "1/1 [==============================] - 0s 186ms/step\n",
      "1/1 [==============================] - 0s 186ms/step\n",
      "1/1 [==============================] - 0s 214ms/step\n",
      "1/1 [==============================] - 0s 261ms/step\n",
      "1/1 [==============================] - 0s 220ms/step\n",
      "1/1 [==============================] - 0s 204ms/step\n",
      "1/1 [==============================] - 0s 349ms/step\n",
      "1/1 [==============================] - 0s 292ms/step\n",
      "1/1 [==============================] - 0s 289ms/step\n",
      "1/1 [==============================] - 0s 240ms/step\n",
      "1/1 [==============================] - 0s 274ms/step\n",
      "1/1 [==============================] - 0s 191ms/step\n",
      "1/1 [==============================] - 0s 193ms/step\n",
      "1/1 [==============================] - 0s 312ms/step\n",
      "1/1 [==============================] - 0s 243ms/step\n",
      "1/1 [==============================] - 0s 199ms/step\n",
      "1/1 [==============================] - 0s 207ms/step\n",
      "1/1 [==============================] - 0s 206ms/step\n",
      "1/1 [==============================] - 0s 207ms/step\n",
      "1/1 [==============================] - 0s 210ms/step\n",
      "1/1 [==============================] - 0s 222ms/step\n",
      "1/1 [==============================] - 0s 201ms/step\n",
      "1/1 [==============================] - 0s 189ms/step\n",
      "1/1 [==============================] - 0s 190ms/step\n",
      "1/1 [==============================] - 0s 178ms/step\n",
      "1/1 [==============================] - 0s 168ms/step\n",
      "1/1 [==============================] - 0s 170ms/step\n",
      "1/1 [==============================] - 0s 174ms/step\n",
      "1/1 [==============================] - 0s 173ms/step\n",
      "1/1 [==============================] - 0s 174ms/step\n",
      "1/1 [==============================] - 0s 171ms/step\n",
      "1/1 [==============================] - 0s 174ms/step\n",
      "1/1 [==============================] - 0s 179ms/step\n",
      "1/1 [==============================] - 0s 178ms/step\n",
      "1/1 [==============================] - 0s 167ms/step\n",
      "1/1 [==============================] - 0s 171ms/step\n",
      "1/1 [==============================] - 0s 193ms/step\n",
      "1/1 [==============================] - 0s 300ms/step\n",
      "1/1 [==============================] - 0s 216ms/step\n",
      "1/1 [==============================] - 0s 185ms/step\n",
      "1/1 [==============================] - 0s 187ms/step\n",
      "1/1 [==============================] - 0s 191ms/step\n",
      "1/1 [==============================] - 0s 184ms/step\n",
      "1/1 [==============================] - 0s 178ms/step\n",
      "1/1 [==============================] - 0s 189ms/step\n",
      "1/1 [==============================] - 0s 184ms/step\n",
      "1/1 [==============================] - 0s 174ms/step\n",
      "1/1 [==============================] - 0s 170ms/step\n",
      "1/1 [==============================] - 0s 176ms/step\n",
      "1/1 [==============================] - 0s 188ms/step\n",
      "1/1 [==============================] - 0s 177ms/step\n",
      "1/1 [==============================] - 0s 185ms/step\n",
      "1/1 [==============================] - 0s 181ms/step\n",
      "1/1 [==============================] - 0s 178ms/step\n",
      "1/1 [==============================] - 0s 175ms/step\n",
      "1/1 [==============================] - 0s 175ms/step\n",
      "1/1 [==============================] - 0s 174ms/step\n",
      "1/1 [==============================] - 0s 167ms/step\n",
      "1/1 [==============================] - 0s 169ms/step\n",
      "1/1 [==============================] - 0s 181ms/step\n",
      "1/1 [==============================] - 0s 187ms/step\n",
      "1/1 [==============================] - 0s 186ms/step\n",
      "1/1 [==============================] - 0s 176ms/step\n",
      "1/1 [==============================] - 0s 171ms/step\n",
      "1/1 [==============================] - 0s 181ms/step\n",
      "1/1 [==============================] - 0s 184ms/step\n",
      "1/1 [==============================] - 0s 185ms/step\n",
      "1/1 [==============================] - 0s 182ms/step\n",
      "1/1 [==============================] - 0s 185ms/step\n",
      "1/1 [==============================] - 0s 190ms/step\n",
      "1/1 [==============================] - 0s 178ms/step\n",
      "1/1 [==============================] - 0s 177ms/step\n",
      "1/1 [==============================] - 0s 193ms/step\n",
      "1/1 [==============================] - 0s 182ms/step\n",
      "1/1 [==============================] - 0s 180ms/step\n",
      "1/1 [==============================] - 0s 189ms/step\n",
      "1/1 [==============================] - 0s 190ms/step\n",
      "1/1 [==============================] - 0s 185ms/step\n",
      "1/1 [==============================] - 0s 191ms/step\n",
      "1/1 [==============================] - 0s 174ms/step\n",
      "1/1 [==============================] - 0s 187ms/step\n",
      "1/1 [==============================] - 0s 194ms/step\n",
      "1/1 [==============================] - 0s 176ms/step\n",
      "1/1 [==============================] - 0s 179ms/step\n",
      "1/1 [==============================] - 0s 178ms/step\n",
      "1/1 [==============================] - 0s 170ms/step\n",
      "1/1 [==============================] - 0s 181ms/step\n",
      "1/1 [==============================] - 0s 188ms/step\n",
      "1/1 [==============================] - 0s 186ms/step\n",
      "1/1 [==============================] - 0s 172ms/step\n",
      "1/1 [==============================] - 0s 173ms/step\n",
      "1/1 [==============================] - 0s 186ms/step\n",
      "1/1 [==============================] - 0s 183ms/step\n",
      "1/1 [==============================] - 0s 181ms/step\n",
      "1/1 [==============================] - 0s 184ms/step\n",
      "1/1 [==============================] - 0s 202ms/step\n",
      "['E6', 'C6', 'D6', 'E6', 'C6', 'D6', 'C6', 'A6', 'G6', 'C6', 'C6', 'A6', 'G6', 'D6', 'E6', 'G6', 'G6', 'A6', 'G6', 'C6', 'E6', 'E6', 'C6', 'D6', 'E6', 'C6', 'D6', 'E6', 'C6', 'B5', 'C6', 'G6', 'E6', 'D6', 'E6', 'C6', 'C6', 'A6', 'G6', 'D6', 'C6', 'G6', 'E6', 'D6', 'E6', 'C6', 'C6', 'A6', 'G6', 'D6', 'G6', 'G6', 'C6', 'A6', 'G6', 'C6', 'E6', 'D6', 'G5', 'D6', 'E6', 'F6', 'E6', 'D6', 'C6', 'C6', 'C6', 'A6', 'G6', 'C6', 'E6', 'D6', 'E6', 'C6', 'A6', 'G6', 'C6', 'D4', 'C#4', 'D4', '7.11.2', 'D4', 'C#4', 'D4', '2.6.9', 'D4', 'C#4', 'D4', '9.1.4', 'D4', 'C#4', 'D4', '2.6', 'C#5', 'B4', 'D4', 'C#4', 'D4', 'B4', '2.7', 'D4', 'C#4', 'D4', 'A4', '2.6.9', 'D4', 'C#4', 'D4', 'A4', '1.4', 'D4', 'C#4', 'D4', '2.6', 'C#5', 'B4', 'D4', 'C#4', 'D4', '7.11.2', 'D4', 'C#4', 'D4', '2.6.9', 'D4', 'C#4', 'D4', '9.1.4', 'D4', 'C#4', 'D4', '2.6', 'C#5', 'B4', 'D4', 'C#4', 'D4', '7.11.2', 'D4', 'C#4', 'D4', '2.6.9', 'D4', 'C#4', 'D4', '9.1.4', 'D4', 'C#4', 'D4', '2.6', 'C#5', 'B4', 'B3', 'G4', '11.2', 'A3', 'F#4', '9.2', 'A3', 'E4', '9.1', 'E4', 'D4', 'B3', 'B3', 'B3', 'G4', '11.2', 'G4', 'F#4', '9.2', 'D4', 'A3', 'F#4', 'E4', 'C#4', 'C#4', 'D4', 'E4', 'D4', 'B3', 'A4', 'B4', '2.7', 'B4', 'D5', 'B4', 'A4', '2.6', 'F#5', 'E5', '9.1', 'C#5', 'E5', 'C#5', 'D5', '6.11', 'F#5', 'D5', 'D5']\n"
     ]
    }
   ],
   "source": [
    "for i in range (100) :\n",
    "    \n",
    "    arrayInput = np.array (inNotes)\n",
    "    netIn = np.reshape (arrayInput, (1, sequence, 1)) / float (nNotes)\n",
    "    \n",
    "    prediction = np.argmax (model.predict (netIn, verbose = 1))\n",
    "    \n",
    "    inNotes = inNotes [1:100]\n",
    "    inNotes.append (prediction)\n",
    "    \n",
    "    outputElements.append (noteCoding [prediction])\n",
    "\n",
    "print (outputElements)"
   ]
  },
  {
   "cell_type": "markdown",
   "metadata": {},
   "source": [
    "#### Converting notes to music file"
   ]
  },
  {
   "cell_type": "code",
   "execution_count": 36,
   "metadata": {},
   "outputs": [
    {
     "data": {
      "text/plain": [
       "'output/singletrack/pop/music4.mid'"
      ]
     },
     "execution_count": 36,
     "metadata": {},
     "output_type": "execute_result"
    }
   ],
   "source": [
    "outputMusic = []\n",
    "offset = 0\n",
    "\n",
    "for ele in outputElements : \n",
    "    \n",
    "    if ('.' in ele) or ele.isdigit () :\n",
    "        n = []\n",
    "        \n",
    "        for i in ele.split ('.') : \n",
    "            temp = note.Note (int (i))\n",
    "            temp.storedInstrument = instrument.Piano ()\n",
    "            n.append (temp)\n",
    "        \n",
    "        temp = chord.Chord (n)\n",
    "        temp.offset = offset\n",
    "        \n",
    "        outputMusic.append (temp)\n",
    "        \n",
    "    else : \n",
    "        temp = note.Note (ele)\n",
    "        temp.storedInstrument = instrument.Piano ()\n",
    "        temp.offset = offset\n",
    "        \n",
    "        outputMusic.append (temp)\n",
    "        \n",
    "    offset += 0.5\n",
    "        \n",
    "num = 1\n",
    "path = 'output/singletrack/pop/*.mid'\n",
    "for i in glob.glob (path) :\n",
    "    t = int (i[len (path):-4])\n",
    "    if (t > num) :\n",
    "        num = t\n",
    "outputMusic = stream.Stream (outputMusic)\n",
    "outputMusic.write ('midi', fp = 'output/singletrack/pop/music' + str (num + 1) + '.mid')"
   ]
  },
  {
   "cell_type": "markdown",
   "metadata": {},
   "source": [
    "#### Music Generated"
   ]
  }
 ],
 "metadata": {
  "kernelspec": {
   "display_name": "Python 3",
   "language": "python",
   "name": "python3"
  },
  "language_info": {
   "codemirror_mode": {
    "name": "ipython",
    "version": 3
   },
   "file_extension": ".py",
   "mimetype": "text/x-python",
   "name": "python",
   "nbconvert_exporter": "python",
   "pygments_lexer": "ipython3",
   "version": "3.7.1"
  }
 },
 "nbformat": 4,
 "nbformat_minor": 2
}
